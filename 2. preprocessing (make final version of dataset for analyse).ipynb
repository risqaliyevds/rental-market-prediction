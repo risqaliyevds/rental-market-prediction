{
 "cells": [
  {
   "cell_type": "code",
   "execution_count": 131,
   "id": "ff1bb1d3",
   "metadata": {},
   "outputs": [],
   "source": [
    "import pandas as pd"
   ]
  },
  {
   "cell_type": "code",
   "execution_count": 132,
   "id": "9a77de7c",
   "metadata": {
    "scrolled": false
   },
   "outputs": [
    {
     "data": {
      "text/html": [
       "<div>\n",
       "<style scoped>\n",
       "    .dataframe tbody tr th:only-of-type {\n",
       "        vertical-align: middle;\n",
       "    }\n",
       "\n",
       "    .dataframe tbody tr th {\n",
       "        vertical-align: top;\n",
       "    }\n",
       "\n",
       "    .dataframe thead th {\n",
       "        text-align: right;\n",
       "    }\n",
       "</style>\n",
       "<table border=\"1\" class=\"dataframe\">\n",
       "  <thead>\n",
       "    <tr style=\"text-align: right;\">\n",
       "      <th></th>\n",
       "      <th>adress</th>\n",
       "      <th>rooms</th>\n",
       "      <th>size</th>\n",
       "      <th>measure</th>\n",
       "      <th>level</th>\n",
       "      <th>repair</th>\n",
       "      <th>wall</th>\n",
       "      <th>price</th>\n",
       "      <th>status</th>\n",
       "    </tr>\n",
       "  </thead>\n",
       "  <tbody>\n",
       "    <tr>\n",
       "      <th>0</th>\n",
       "      <td>Сергелийский район</td>\n",
       "      <td>3</td>\n",
       "      <td>83</td>\n",
       "      <td>NaN</td>\n",
       "      <td>3/9</td>\n",
       "      <td>Авторский проект</td>\n",
       "      <td>Монолитный</td>\n",
       "      <td>500</td>\n",
       "      <td>аренду</td>\n",
       "    </tr>\n",
       "    <tr>\n",
       "      <th>1</th>\n",
       "      <td>Яшнободский район</td>\n",
       "      <td>1</td>\n",
       "      <td>40</td>\n",
       "      <td>NaN</td>\n",
       "      <td>3/9</td>\n",
       "      <td>Евроремонт</td>\n",
       "      <td>Панельный</td>\n",
       "      <td>450</td>\n",
       "      <td>аренду</td>\n",
       "    </tr>\n",
       "    <tr>\n",
       "      <th>2</th>\n",
       "      <td>Мирабадский район</td>\n",
       "      <td>3</td>\n",
       "      <td>93</td>\n",
       "      <td>NaN</td>\n",
       "      <td>7/9</td>\n",
       "      <td>Евроремонт</td>\n",
       "      <td>Панельный</td>\n",
       "      <td>1 000</td>\n",
       "      <td>аренду</td>\n",
       "    </tr>\n",
       "    <tr>\n",
       "      <th>3</th>\n",
       "      <td>Мирабадский район</td>\n",
       "      <td>2</td>\n",
       "      <td>60</td>\n",
       "      <td>NaN</td>\n",
       "      <td>3/4</td>\n",
       "      <td>Авторский проект</td>\n",
       "      <td>Кирпичный</td>\n",
       "      <td>1 200</td>\n",
       "      <td>аренду</td>\n",
       "    </tr>\n",
       "    <tr>\n",
       "      <th>4</th>\n",
       "      <td>Шайхантахурский район</td>\n",
       "      <td>2</td>\n",
       "      <td>50</td>\n",
       "      <td>NaN</td>\n",
       "      <td>2/4</td>\n",
       "      <td>Евроремонт</td>\n",
       "      <td>Кирпичный</td>\n",
       "      <td>700</td>\n",
       "      <td>аренду</td>\n",
       "    </tr>\n",
       "    <tr>\n",
       "      <th>...</th>\n",
       "      <td>...</td>\n",
       "      <td>...</td>\n",
       "      <td>...</td>\n",
       "      <td>...</td>\n",
       "      <td>...</td>\n",
       "      <td>...</td>\n",
       "      <td>...</td>\n",
       "      <td>...</td>\n",
       "      <td>...</td>\n",
       "    </tr>\n",
       "    <tr>\n",
       "      <th>6427</th>\n",
       "      <td>Юнусабадский район</td>\n",
       "      <td>2</td>\n",
       "      <td>51</td>\n",
       "      <td>NaN</td>\n",
       "      <td>2/9</td>\n",
       "      <td>Евроремонт</td>\n",
       "      <td>Кирпичный</td>\n",
       "      <td>1 200</td>\n",
       "      <td>аренду</td>\n",
       "    </tr>\n",
       "    <tr>\n",
       "      <th>6428</th>\n",
       "      <td>Яккасарайский район</td>\n",
       "      <td>3</td>\n",
       "      <td>110</td>\n",
       "      <td>NaN</td>\n",
       "      <td>6/8</td>\n",
       "      <td>Евроремонт</td>\n",
       "      <td>Кирпичный</td>\n",
       "      <td>1 200</td>\n",
       "      <td>аренду</td>\n",
       "    </tr>\n",
       "    <tr>\n",
       "      <th>6429</th>\n",
       "      <td>Мирабадский район</td>\n",
       "      <td>2</td>\n",
       "      <td>65</td>\n",
       "      <td>NaN</td>\n",
       "      <td>3/9</td>\n",
       "      <td>Евроремонт</td>\n",
       "      <td>Парковочное место</td>\n",
       "      <td>700</td>\n",
       "      <td>аренду</td>\n",
       "    </tr>\n",
       "    <tr>\n",
       "      <th>6430</th>\n",
       "      <td>Яккасарайский район</td>\n",
       "      <td>2</td>\n",
       "      <td>65</td>\n",
       "      <td>NaN</td>\n",
       "      <td>1/6</td>\n",
       "      <td>Евроремонт</td>\n",
       "      <td>Кирпичный</td>\n",
       "      <td>1 000</td>\n",
       "      <td>аренду</td>\n",
       "    </tr>\n",
       "    <tr>\n",
       "      <th>6431</th>\n",
       "      <td>Мирабадский район</td>\n",
       "      <td>2</td>\n",
       "      <td>50</td>\n",
       "      <td>NaN</td>\n",
       "      <td>2/12</td>\n",
       "      <td>Евроремонт</td>\n",
       "      <td>Панельный</td>\n",
       "      <td>800</td>\n",
       "      <td>аренду</td>\n",
       "    </tr>\n",
       "  </tbody>\n",
       "</table>\n",
       "<p>6432 rows × 9 columns</p>\n",
       "</div>"
      ],
      "text/plain": [
       "                      adress rooms size  measure level            repair  \\\n",
       "0         Сергелийский район     3   83      NaN   3/9  Авторский проект   \n",
       "1          Яшнободский район     1   40      NaN   3/9        Евроремонт   \n",
       "2          Мирабадский район     3   93      NaN   7/9        Евроремонт   \n",
       "3          Мирабадский район     2   60      NaN   3/4  Авторский проект   \n",
       "4      Шайхантахурский район     2   50      NaN   2/4        Евроремонт   \n",
       "...                      ...   ...  ...      ...   ...               ...   \n",
       "6427      Юнусабадский район     2   51      NaN   2/9        Евроремонт   \n",
       "6428     Яккасарайский район     3  110      NaN   6/8        Евроремонт   \n",
       "6429       Мирабадский район     2   65      NaN   3/9        Евроремонт   \n",
       "6430     Яккасарайский район     2   65      NaN   1/6        Евроремонт   \n",
       "6431       Мирабадский район     2   50      NaN  2/12        Евроремонт   \n",
       "\n",
       "                   wall  price  status  \n",
       "0            Монолитный    500  аренду  \n",
       "1             Панельный    450  аренду  \n",
       "2             Панельный  1 000  аренду  \n",
       "3             Кирпичный  1 200  аренду  \n",
       "4             Кирпичный    700  аренду  \n",
       "...                 ...    ...     ...  \n",
       "6427          Кирпичный  1 200  аренду  \n",
       "6428          Кирпичный  1 200  аренду  \n",
       "6429  Парковочное место    700  аренду  \n",
       "6430          Кирпичный  1 000  аренду  \n",
       "6431          Панельный    800  аренду  \n",
       "\n",
       "[6432 rows x 9 columns]"
      ]
     },
     "execution_count": 132,
     "metadata": {},
     "output_type": "execute_result"
    }
   ],
   "source": [
    "df_rent = pd.read_csv('rent_after_first_preprocessing.csv')\n",
    "df_rent"
   ]
  },
  {
   "cell_type": "markdown",
   "id": "883e76f3",
   "metadata": {},
   "source": [
    "#### 'rooms' column"
   ]
  },
  {
   "cell_type": "code",
   "execution_count": 133,
   "id": "8929f5fc",
   "metadata": {},
   "outputs": [],
   "source": [
    "# Loop for take correct values from rooms column\n",
    "l_rooms = []\n",
    "for i in df_rent.rooms:\n",
    "    if 'м²' in i:\n",
    "        l_rooms.append('-1')\n",
    "    else:\n",
    "        l_rooms.append(i)"
   ]
  },
  {
   "cell_type": "code",
   "execution_count": 134,
   "id": "6ecebe30",
   "metadata": {},
   "outputs": [],
   "source": [
    "# Set values\n",
    "df_rent.loc[:, 'rooms'] = np.array(l_rooms)"
   ]
  },
  {
   "cell_type": "code",
   "execution_count": 135,
   "id": "b08aef62",
   "metadata": {},
   "outputs": [],
   "source": [
    "# Drop unusual values\n",
    "l = ['1', '2', '3', '4', '5', '6+']\n",
    "\n",
    "l_sort = []\n",
    "for i in df_rent.rooms:\n",
    "    if i not in l:\n",
    "        l_sort.append('-1')\n",
    "    else:\n",
    "        l_sort.append(i)"
   ]
  },
  {
   "cell_type": "code",
   "execution_count": 136,
   "id": "b3030672",
   "metadata": {},
   "outputs": [],
   "source": [
    "# Set values\n",
    "df_rent.loc[:, 'rooms'] = np.array(l_sort)"
   ]
  },
  {
   "cell_type": "code",
   "execution_count": 137,
   "id": "f1424b35",
   "metadata": {},
   "outputs": [],
   "source": [
    "# Replace 6+ into 6\n",
    "df_rent.rooms = df_rent.rooms.replace('6+', '6')\n",
    "df_rent.rooms = df_rent.rooms.astype('int16')"
   ]
  },
  {
   "cell_type": "code",
   "execution_count": 138,
   "id": "9d68cd6c",
   "metadata": {},
   "outputs": [],
   "source": [
    "ind = list(df_rent[df_rent['rooms'] == -1].index)\n",
    "df_rent.drop(ind, inplace=True)"
   ]
  },
  {
   "cell_type": "markdown",
   "id": "0fa1055b",
   "metadata": {},
   "source": [
    "#### 'size' column"
   ]
  },
  {
   "cell_type": "code",
   "execution_count": 139,
   "id": "dd45e892",
   "metadata": {},
   "outputs": [],
   "source": [
    "# Separate all digit values\n",
    "cat = [i.isdigit() for i in df_rent['size']]\n",
    "df_rent = df_rent[cat]"
   ]
  },
  {
   "cell_type": "code",
   "execution_count": 140,
   "id": "9ce5222f",
   "metadata": {},
   "outputs": [
    {
     "name": "stderr",
     "output_type": "stream",
     "text": [
      "C:\\Users\\qiziq\\AppData\\Local\\Temp\\ipykernel_6272\\2667559522.py:2: SettingWithCopyWarning: \n",
      "A value is trying to be set on a copy of a slice from a DataFrame.\n",
      "Try using .loc[row_indexer,col_indexer] = value instead\n",
      "\n",
      "See the caveats in the documentation: https://pandas.pydata.org/pandas-docs/stable/user_guide/indexing.html#returning-a-view-versus-a-copy\n",
      "  df_rent['size'] = df_rent['size'].astype('float')\n"
     ]
    }
   ],
   "source": [
    "# Change dtype of column\n",
    "df_rent['size'] = df_rent['size'].astype('float')"
   ]
  },
  {
   "cell_type": "code",
   "execution_count": 141,
   "id": "16dba1a6",
   "metadata": {
    "scrolled": true
   },
   "outputs": [
    {
     "name": "stderr",
     "output_type": "stream",
     "text": [
      "C:\\Users\\qiziq\\AppData\\Local\\Temp\\ipykernel_6272\\1731121593.py:2: SettingWithCopyWarning: \n",
      "A value is trying to be set on a copy of a slice from a DataFrame\n",
      "\n",
      "See the caveats in the documentation: https://pandas.pydata.org/pandas-docs/stable/user_guide/indexing.html#returning-a-view-versus-a-copy\n",
      "  df_rent.drop('measure', axis=1, inplace=True)\n"
     ]
    }
   ],
   "source": [
    "# This column not necessary\n",
    "df_rent.drop('measure', axis=1, inplace=True)"
   ]
  },
  {
   "cell_type": "markdown",
   "id": "cefdfe4c",
   "metadata": {},
   "source": [
    "#### 'level' column"
   ]
  },
  {
   "cell_type": "code",
   "execution_count": 142,
   "id": "b2cd46b2",
   "metadata": {},
   "outputs": [
    {
     "name": "stderr",
     "output_type": "stream",
     "text": [
      "C:\\Users\\qiziq\\AppData\\Local\\Temp\\ipykernel_6272\\3678127607.py:5: SettingWithCopyWarning: \n",
      "A value is trying to be set on a copy of a slice from a DataFrame\n",
      "\n",
      "See the caveats in the documentation: https://pandas.pydata.org/pandas-docs/stable/user_guide/indexing.html#returning-a-view-versus-a-copy\n",
      "  df_rent.drop(indx, inplace=True)\n"
     ]
    }
   ],
   "source": [
    "# Separate all str values\n",
    "col = [i.isalpha() for i in df_rent['level']]\n",
    "indx = list(df_rent[col].index)\n",
    "\n",
    "df_rent.drop(indx, inplace=True)"
   ]
  },
  {
   "cell_type": "code",
   "execution_count": 143,
   "id": "b47521f4",
   "metadata": {},
   "outputs": [
    {
     "name": "stderr",
     "output_type": "stream",
     "text": [
      "C:\\Users\\qiziq\\AppData\\Local\\Temp\\ipykernel_6272\\132905948.py:6: SettingWithCopyWarning: \n",
      "A value is trying to be set on a copy of a slice from a DataFrame.\n",
      "Try using .loc[row_indexer,col_indexer] = value instead\n",
      "\n",
      "See the caveats in the documentation: https://pandas.pydata.org/pandas-docs/stable/user_guide/indexing.html#returning-a-view-versus-a-copy\n",
      "  df_rent['floor'] = df_floor['floor']\n",
      "C:\\Users\\qiziq\\AppData\\Local\\Temp\\ipykernel_6272\\132905948.py:7: SettingWithCopyWarning: \n",
      "A value is trying to be set on a copy of a slice from a DataFrame.\n",
      "Try using .loc[row_indexer,col_indexer] = value instead\n",
      "\n",
      "See the caveats in the documentation: https://pandas.pydata.org/pandas-docs/stable/user_guide/indexing.html#returning-a-view-versus-a-copy\n",
      "  df_rent['level'] = df_floor['lvl']\n"
     ]
    }
   ],
   "source": [
    "# Seperated level column into two column\n",
    "df_floor = pd.DataFrame([i.split('/') for i in df_rent['level']],\n",
    "                        columns= ['floor', 'lvl'],\n",
    "                        index= df_rent.index)\n",
    "\n",
    "df_rent['floor'] = df_floor['floor']\n",
    "df_rent['level'] = df_floor['lvl']"
   ]
  },
  {
   "cell_type": "code",
   "execution_count": 144,
   "id": "79e12f47",
   "metadata": {},
   "outputs": [],
   "source": [
    "df_rent = df_rent[['adress', 'rooms', 'size', 'floor', 'level', 'repair', 'wall', 'price', 'status']]"
   ]
  },
  {
   "cell_type": "markdown",
   "id": "e8e4a36e",
   "metadata": {},
   "source": [
    "#### 'repair' column"
   ]
  },
  {
   "cell_type": "code",
   "execution_count": 145,
   "id": "59f5ee01",
   "metadata": {},
   "outputs": [],
   "source": [
    "# Unnecessary values dropped\n",
    "repair = ['Евроремонт', 'Черновая отделка', 'Средний', 'Авторский проект', ' ']\n",
    "\n",
    "rows = [i in repair for i in df_rent.repair]\n",
    "df_rent = df_rent[rows]"
   ]
  },
  {
   "cell_type": "markdown",
   "id": "25600e0d",
   "metadata": {},
   "source": [
    "#### 'wall' column"
   ]
  },
  {
   "cell_type": "code",
   "execution_count": 146,
   "id": "4cc20566",
   "metadata": {},
   "outputs": [],
   "source": [
    "# Unnecessary values dropped\n",
    "wall = ['Кирпичный', 'Панельный', 'Монолитный', ' ']\n",
    "\n",
    "rows = [i in wall for i in df_rent.wall]\n",
    "df_rent = df_rent[rows]"
   ]
  },
  {
   "cell_type": "markdown",
   "id": "a5f0b7a9",
   "metadata": {},
   "source": [
    "#### 'price' column"
   ]
  },
  {
   "cell_type": "code",
   "execution_count": 147,
   "id": "609d4e5c",
   "metadata": {},
   "outputs": [],
   "source": [
    "# Change dtype into 'float'\n",
    "df_rent['price'] = df_rent['price'].str.replace(' ', '').astype(float)"
   ]
  },
  {
   "cell_type": "code",
   "execution_count": 148,
   "id": "4901290b",
   "metadata": {},
   "outputs": [],
   "source": [
    "# Unusual values dropped\n",
    "df_rent = df_rent[df_rent.price < 10000]"
   ]
  },
  {
   "cell_type": "code",
   "execution_count": 149,
   "id": "cd75d6d1",
   "metadata": {
    "scrolled": false
   },
   "outputs": [
    {
     "data": {
      "text/html": [
       "<div>\n",
       "<style scoped>\n",
       "    .dataframe tbody tr th:only-of-type {\n",
       "        vertical-align: middle;\n",
       "    }\n",
       "\n",
       "    .dataframe tbody tr th {\n",
       "        vertical-align: top;\n",
       "    }\n",
       "\n",
       "    .dataframe thead th {\n",
       "        text-align: right;\n",
       "    }\n",
       "</style>\n",
       "<table border=\"1\" class=\"dataframe\">\n",
       "  <thead>\n",
       "    <tr style=\"text-align: right;\">\n",
       "      <th></th>\n",
       "      <th>adress</th>\n",
       "      <th>rooms</th>\n",
       "      <th>size</th>\n",
       "      <th>floor</th>\n",
       "      <th>level</th>\n",
       "      <th>repair</th>\n",
       "      <th>wall</th>\n",
       "      <th>price</th>\n",
       "      <th>status</th>\n",
       "    </tr>\n",
       "  </thead>\n",
       "  <tbody>\n",
       "    <tr>\n",
       "      <th>0</th>\n",
       "      <td>Сергелийский район</td>\n",
       "      <td>3</td>\n",
       "      <td>83.0</td>\n",
       "      <td>3</td>\n",
       "      <td>9</td>\n",
       "      <td>Авторский проект</td>\n",
       "      <td>Монолитный</td>\n",
       "      <td>500.0</td>\n",
       "      <td>аренду</td>\n",
       "    </tr>\n",
       "    <tr>\n",
       "      <th>1</th>\n",
       "      <td>Яшнободский район</td>\n",
       "      <td>1</td>\n",
       "      <td>40.0</td>\n",
       "      <td>3</td>\n",
       "      <td>9</td>\n",
       "      <td>Евроремонт</td>\n",
       "      <td>Панельный</td>\n",
       "      <td>450.0</td>\n",
       "      <td>аренду</td>\n",
       "    </tr>\n",
       "    <tr>\n",
       "      <th>2</th>\n",
       "      <td>Мирабадский район</td>\n",
       "      <td>3</td>\n",
       "      <td>93.0</td>\n",
       "      <td>7</td>\n",
       "      <td>9</td>\n",
       "      <td>Евроремонт</td>\n",
       "      <td>Панельный</td>\n",
       "      <td>1000.0</td>\n",
       "      <td>аренду</td>\n",
       "    </tr>\n",
       "    <tr>\n",
       "      <th>3</th>\n",
       "      <td>Мирабадский район</td>\n",
       "      <td>2</td>\n",
       "      <td>60.0</td>\n",
       "      <td>3</td>\n",
       "      <td>4</td>\n",
       "      <td>Авторский проект</td>\n",
       "      <td>Кирпичный</td>\n",
       "      <td>1200.0</td>\n",
       "      <td>аренду</td>\n",
       "    </tr>\n",
       "    <tr>\n",
       "      <th>4</th>\n",
       "      <td>Шайхантахурский район</td>\n",
       "      <td>2</td>\n",
       "      <td>50.0</td>\n",
       "      <td>2</td>\n",
       "      <td>4</td>\n",
       "      <td>Евроремонт</td>\n",
       "      <td>Кирпичный</td>\n",
       "      <td>700.0</td>\n",
       "      <td>аренду</td>\n",
       "    </tr>\n",
       "    <tr>\n",
       "      <th>...</th>\n",
       "      <td>...</td>\n",
       "      <td>...</td>\n",
       "      <td>...</td>\n",
       "      <td>...</td>\n",
       "      <td>...</td>\n",
       "      <td>...</td>\n",
       "      <td>...</td>\n",
       "      <td>...</td>\n",
       "      <td>...</td>\n",
       "    </tr>\n",
       "    <tr>\n",
       "      <th>4740</th>\n",
       "      <td>Мирзо-Улугбекский район</td>\n",
       "      <td>1</td>\n",
       "      <td>35.0</td>\n",
       "      <td>2</td>\n",
       "      <td>4</td>\n",
       "      <td>Евроремонт</td>\n",
       "      <td>Кирпичный</td>\n",
       "      <td>500.0</td>\n",
       "      <td>аренду</td>\n",
       "    </tr>\n",
       "    <tr>\n",
       "      <th>4741</th>\n",
       "      <td>Юнусабадский район</td>\n",
       "      <td>2</td>\n",
       "      <td>51.0</td>\n",
       "      <td>2</td>\n",
       "      <td>9</td>\n",
       "      <td>Евроремонт</td>\n",
       "      <td>Кирпичный</td>\n",
       "      <td>1200.0</td>\n",
       "      <td>аренду</td>\n",
       "    </tr>\n",
       "    <tr>\n",
       "      <th>4742</th>\n",
       "      <td>Яккасарайский район</td>\n",
       "      <td>3</td>\n",
       "      <td>110.0</td>\n",
       "      <td>6</td>\n",
       "      <td>8</td>\n",
       "      <td>Евроремонт</td>\n",
       "      <td>Кирпичный</td>\n",
       "      <td>1200.0</td>\n",
       "      <td>аренду</td>\n",
       "    </tr>\n",
       "    <tr>\n",
       "      <th>4743</th>\n",
       "      <td>Яккасарайский район</td>\n",
       "      <td>2</td>\n",
       "      <td>65.0</td>\n",
       "      <td>1</td>\n",
       "      <td>6</td>\n",
       "      <td>Евроремонт</td>\n",
       "      <td>Кирпичный</td>\n",
       "      <td>1000.0</td>\n",
       "      <td>аренду</td>\n",
       "    </tr>\n",
       "    <tr>\n",
       "      <th>4744</th>\n",
       "      <td>Мирабадский район</td>\n",
       "      <td>2</td>\n",
       "      <td>50.0</td>\n",
       "      <td>2</td>\n",
       "      <td>12</td>\n",
       "      <td>Евроремонт</td>\n",
       "      <td>Панельный</td>\n",
       "      <td>800.0</td>\n",
       "      <td>аренду</td>\n",
       "    </tr>\n",
       "  </tbody>\n",
       "</table>\n",
       "<p>4745 rows × 9 columns</p>\n",
       "</div>"
      ],
      "text/plain": [
       "                        adress  rooms   size floor level            repair  \\\n",
       "0           Сергелийский район      3   83.0     3     9  Авторский проект   \n",
       "1            Яшнободский район      1   40.0     3     9        Евроремонт   \n",
       "2            Мирабадский район      3   93.0     7     9        Евроремонт   \n",
       "3            Мирабадский район      2   60.0     3     4  Авторский проект   \n",
       "4        Шайхантахурский район      2   50.0     2     4        Евроремонт   \n",
       "...                        ...    ...    ...   ...   ...               ...   \n",
       "4740   Мирзо-Улугбекский район      1   35.0     2     4        Евроремонт   \n",
       "4741        Юнусабадский район      2   51.0     2     9        Евроремонт   \n",
       "4742       Яккасарайский район      3  110.0     6     8        Евроремонт   \n",
       "4743       Яккасарайский район      2   65.0     1     6        Евроремонт   \n",
       "4744         Мирабадский район      2   50.0     2    12        Евроремонт   \n",
       "\n",
       "            wall   price  status  \n",
       "0     Монолитный   500.0  аренду  \n",
       "1      Панельный   450.0  аренду  \n",
       "2      Панельный  1000.0  аренду  \n",
       "3      Кирпичный  1200.0  аренду  \n",
       "4      Кирпичный   700.0  аренду  \n",
       "...          ...     ...     ...  \n",
       "4740   Кирпичный   500.0  аренду  \n",
       "4741   Кирпичный  1200.0  аренду  \n",
       "4742   Кирпичный  1200.0  аренду  \n",
       "4743   Кирпичный  1000.0  аренду  \n",
       "4744   Панельный   800.0  аренду  \n",
       "\n",
       "[4745 rows x 9 columns]"
      ]
     },
     "execution_count": 149,
     "metadata": {},
     "output_type": "execute_result"
    }
   ],
   "source": [
    "df_rent.reset_index(drop=True)"
   ]
  },
  {
   "cell_type": "markdown",
   "id": "a7182930",
   "metadata": {},
   "source": [
    "#### Save final file"
   ]
  },
  {
   "cell_type": "code",
   "execution_count": 150,
   "id": "af0d6fe2",
   "metadata": {},
   "outputs": [],
   "source": [
    "df_rent.to_csv('rent_for_analys.csv', index= False,\n",
    "               columns=[\n",
    "                   'adress', 'rooms', 'size', 'floor', 'level', 'repair', 'wall', 'price'\n",
    "               ])"
   ]
  }
 ],
 "metadata": {
  "kernelspec": {
   "display_name": "Python 3 (ipykernel)",
   "language": "python",
   "name": "python3"
  },
  "language_info": {
   "codemirror_mode": {
    "name": "ipython",
    "version": 3
   },
   "file_extension": ".py",
   "mimetype": "text/x-python",
   "name": "python",
   "nbconvert_exporter": "python",
   "pygments_lexer": "ipython3",
   "version": "3.10.10"
  },
  "varInspector": {
   "cols": {
    "lenName": 16,
    "lenType": 16,
    "lenVar": 40
   },
   "kernels_config": {
    "python": {
     "delete_cmd_postfix": "",
     "delete_cmd_prefix": "del ",
     "library": "var_list.py",
     "varRefreshCmd": "print(var_dic_list())"
    },
    "r": {
     "delete_cmd_postfix": ") ",
     "delete_cmd_prefix": "rm(",
     "library": "var_list.r",
     "varRefreshCmd": "cat(var_dic_list()) "
    }
   },
   "types_to_exclude": [
    "module",
    "function",
    "builtin_function_or_method",
    "instance",
    "_Feature"
   ],
   "window_display": false
  }
 },
 "nbformat": 4,
 "nbformat_minor": 5
}
