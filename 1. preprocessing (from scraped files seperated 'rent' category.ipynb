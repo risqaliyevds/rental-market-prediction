{
 "cells": [
  {
   "cell_type": "code",
   "execution_count": 34,
   "id": "855e908e",
   "metadata": {},
   "outputs": [],
   "source": [
    "import pandas as pd"
   ]
  },
  {
   "cell_type": "code",
   "execution_count": 35,
   "id": "b45275d8",
   "metadata": {},
   "outputs": [],
   "source": [
    "# Concat all .csv files\n",
    "for i in range(1,7):\n",
    "    df_c = pd.read_csv(f'dataset/df{i}.csv', index_col=0)\n",
    "    try:\n",
    "        df = pd.concat([df, df_c]).reset_index(drop=True)\n",
    "    except:\n",
    "        df = pd.concat([df_c])"
   ]
  },
  {
   "cell_type": "code",
   "execution_count": 36,
   "id": "ef4036a2",
   "metadata": {},
   "outputs": [],
   "source": [
    "# Define status ('rent' or 'cell')\n",
    "df['status'] = [i.split(' ')[-1] for i in df.name]\n",
    "df.drop('name', axis=1, inplace=True)"
   ]
  },
  {
   "cell_type": "code",
   "execution_count": 37,
   "id": "7d432f55",
   "metadata": {},
   "outputs": [],
   "source": [
    "# Separate only Tashkent city (this .csv file includes all regions of Uzbekistan)\n",
    "bool_adress = [i.split(',')[0] == 'город Ташкент' for i in df.adress]\n",
    "df = df[bool_adress]"
   ]
  },
  {
   "cell_type": "code",
   "execution_count": 38,
   "id": "61ba7bb2",
   "metadata": {},
   "outputs": [],
   "source": [
    "# Remove all ther informations from adress columns it could be helpfull\n",
    "# if we can use this all informations but it is quite inpossible\n",
    "df['adress'] = [i.split(',')[1] for i in df.adress]"
   ]
  },
  {
   "cell_type": "code",
   "execution_count": 39,
   "id": "daa92c67",
   "metadata": {},
   "outputs": [],
   "source": [
    "# Filling missed values\n",
    "df.fillna(' ', inplace=True)"
   ]
  },
  {
   "cell_type": "code",
   "execution_count": 40,
   "id": "03e4d14d",
   "metadata": {},
   "outputs": [],
   "source": [
    "# Split 'size' columns into two part\n",
    "df_size = pd.DataFrame([i.split(' м²')[0:2] for i in df['size']],\n",
    "                       columns=['size', 'measure'],\n",
    "                       index= df.index)\n",
    "\n",
    "df['size'] = df_size['size']\n",
    "df['measure'] = df_size['measure']"
   ]
  },
  {
   "cell_type": "code",
   "execution_count": 41,
   "id": "dab0a547",
   "metadata": {},
   "outputs": [],
   "source": [
    "# Separate price\n",
    "df['price'] = [i.split(' у.е.')[0] for i in df.price]"
   ]
  },
  {
   "cell_type": "code",
   "execution_count": 42,
   "id": "95962a41",
   "metadata": {
    "scrolled": true
   },
   "outputs": [
    {
     "data": {
      "text/html": [
       "<div>\n",
       "<style scoped>\n",
       "    .dataframe tbody tr th:only-of-type {\n",
       "        vertical-align: middle;\n",
       "    }\n",
       "\n",
       "    .dataframe tbody tr th {\n",
       "        vertical-align: top;\n",
       "    }\n",
       "\n",
       "    .dataframe thead th {\n",
       "        text-align: right;\n",
       "    }\n",
       "</style>\n",
       "<table border=\"1\" class=\"dataframe\">\n",
       "  <thead>\n",
       "    <tr style=\"text-align: right;\">\n",
       "      <th></th>\n",
       "      <th>adress</th>\n",
       "      <th>rooms</th>\n",
       "      <th>size</th>\n",
       "      <th>measure</th>\n",
       "      <th>level</th>\n",
       "      <th>repair</th>\n",
       "      <th>wall</th>\n",
       "      <th>price</th>\n",
       "      <th>status</th>\n",
       "    </tr>\n",
       "  </thead>\n",
       "  <tbody>\n",
       "    <tr>\n",
       "      <th>0</th>\n",
       "      <td>Учтепинский район</td>\n",
       "      <td>2</td>\n",
       "      <td>40</td>\n",
       "      <td></td>\n",
       "      <td>1/5</td>\n",
       "      <td>Средний</td>\n",
       "      <td>Кирпичный</td>\n",
       "      <td>300</td>\n",
       "      <td>продажу</td>\n",
       "    </tr>\n",
       "    <tr>\n",
       "      <th>1</th>\n",
       "      <td>Чиланзарский район</td>\n",
       "      <td>2</td>\n",
       "      <td>50</td>\n",
       "      <td></td>\n",
       "      <td>1/4</td>\n",
       "      <td>Евроремонт</td>\n",
       "      <td>Панельный</td>\n",
       "      <td>57 500</td>\n",
       "      <td>продажу</td>\n",
       "    </tr>\n",
       "    <tr>\n",
       "      <th>2</th>\n",
       "      <td>Сергелийский район</td>\n",
       "      <td>3</td>\n",
       "      <td>83</td>\n",
       "      <td></td>\n",
       "      <td>3/9</td>\n",
       "      <td>Авторский проект</td>\n",
       "      <td>Монолитный</td>\n",
       "      <td>500</td>\n",
       "      <td>аренду</td>\n",
       "    </tr>\n",
       "    <tr>\n",
       "      <th>3</th>\n",
       "      <td>Яшнободский район</td>\n",
       "      <td>1</td>\n",
       "      <td>40</td>\n",
       "      <td></td>\n",
       "      <td>3/9</td>\n",
       "      <td>Евроремонт</td>\n",
       "      <td>Панельный</td>\n",
       "      <td>450</td>\n",
       "      <td>аренду</td>\n",
       "    </tr>\n",
       "    <tr>\n",
       "      <th>4</th>\n",
       "      <td>Мирабадский район</td>\n",
       "      <td>3</td>\n",
       "      <td>93</td>\n",
       "      <td></td>\n",
       "      <td>7/9</td>\n",
       "      <td>Евроремонт</td>\n",
       "      <td>Панельный</td>\n",
       "      <td>1 000</td>\n",
       "      <td>аренду</td>\n",
       "    </tr>\n",
       "  </tbody>\n",
       "</table>\n",
       "</div>"
      ],
      "text/plain": [
       "                adress rooms size measure level            repair        wall  \\\n",
       "0    Учтепинский район     2   40           1/5           Средний   Кирпичный   \n",
       "1   Чиланзарский район     2   50           1/4        Евроремонт   Панельный   \n",
       "2   Сергелийский район     3   83           3/9  Авторский проект  Монолитный   \n",
       "3    Яшнободский район     1   40           3/9        Евроремонт   Панельный   \n",
       "4    Мирабадский район     3   93           7/9        Евроремонт   Панельный   \n",
       "\n",
       "    price   status  \n",
       "0     300  продажу  \n",
       "1  57 500  продажу  \n",
       "2     500   аренду  \n",
       "3     450   аренду  \n",
       "4   1 000   аренду  "
      ]
     },
     "execution_count": 42,
     "metadata": {},
     "output_type": "execute_result"
    }
   ],
   "source": [
    "# Last df\n",
    "df = df[['adress', 'rooms', 'size', 'measure', 'level', 'repair', 'wall', 'price', 'status']]\n",
    "df.reset_index(drop = True, inplace=True)\n",
    "df.head()"
   ]
  },
  {
   "cell_type": "code",
   "execution_count": 43,
   "id": "4a64cced",
   "metadata": {},
   "outputs": [],
   "source": [
    "# Seperating Rent category\n",
    "df_rent = df[df['status'] == 'аренду']\n",
    "\n",
    "# Save it to .csv file\n",
    "df_rent.to_csv('rent_after_first_preprocessing.csv', index= False)"
   ]
  }
 ],
 "metadata": {
  "kernelspec": {
   "display_name": "Python 3 (ipykernel)",
   "language": "python",
   "name": "python3"
  },
  "language_info": {
   "codemirror_mode": {
    "name": "ipython",
    "version": 3
   },
   "file_extension": ".py",
   "mimetype": "text/x-python",
   "name": "python",
   "nbconvert_exporter": "python",
   "pygments_lexer": "ipython3",
   "version": "3.10.10"
  },
  "varInspector": {
   "cols": {
    "lenName": 16,
    "lenType": 16,
    "lenVar": 40
   },
   "kernels_config": {
    "python": {
     "delete_cmd_postfix": "",
     "delete_cmd_prefix": "del ",
     "library": "var_list.py",
     "varRefreshCmd": "print(var_dic_list())"
    },
    "r": {
     "delete_cmd_postfix": ") ",
     "delete_cmd_prefix": "rm(",
     "library": "var_list.r",
     "varRefreshCmd": "cat(var_dic_list()) "
    }
   },
   "types_to_exclude": [
    "module",
    "function",
    "builtin_function_or_method",
    "instance",
    "_Feature"
   ],
   "window_display": false
  }
 },
 "nbformat": 4,
 "nbformat_minor": 5
}
